{
 "cells": [
  {
   "cell_type": "markdown",
   "metadata": {},
   "source": [
    "# Before your start:\n",
    "\n",
    "    Read the README.md file\n",
    "    Comment as much as you can and use the resources (README.md file)\n",
    "    Happy learning!\n",
    "\n",
    "*Notes:* \n",
    "\n",
    "- Solve the questions with python.\n",
    "\n",
    "- Round the final answer to three decimal places."
   ]
  },
  {
   "cell_type": "code",
   "execution_count": 16,
   "metadata": {},
   "outputs": [],
   "source": [
    "# libraries\n",
    "import numpy as np\n",
    "import pandas as pd\n",
    "import matplotlib.pyplot as plt\n",
    "import math\n",
    "from scipy.stats import binom\n",
    "from scipy.special import comb"
   ]
  },
  {
   "cell_type": "markdown",
   "metadata": {},
   "source": [
    "## Bernoulli's Distribution\n",
    "\n",
    "In a basket containing 100 fruits, there are 60 apples and 40 oranges. \n",
    "\n",
    "A fruit is picked randomly from the basket. \n",
    "\n",
    "1. **What is the probability that the fruit is apple?**\n",
    "1. **What is the probability that it is an orange?**"
   ]
  },
  {
   "cell_type": "code",
   "execution_count": 7,
   "metadata": {},
   "outputs": [
    {
     "name": "stdout",
     "output_type": "stream",
     "text": [
      "P(apple)= 0.6\n",
      "P(orange)= 0.4\n"
     ]
    }
   ],
   "source": [
    "\"\"\"\n",
    "Calculate:\n",
    "p = probability that the fruit is an apple \n",
    "q = probability that the fruit is an orange\n",
    "\"\"\"\n",
    "\n",
    "# your code here\n",
    "apples = 60\n",
    "oranges = 40\n",
    "total = 100\n",
    "p = apples/ total\n",
    "q = oranges / total\n",
    "\n",
    "\n",
    "print('P(apple)=', p)\n",
    "print('P(orange)=', q)"
   ]
  },
  {
   "cell_type": "markdown",
   "metadata": {},
   "source": [
    "Now we take a random sample of 20 fruits from the basket. After each fruit is taken, a new fruit of the same type is replaced in the basket. Therefore, every time we are taking 1 fruit from 100 fruits. \n",
    "\n",
    "1. **What is the probability that the first 5 fruits are all apples?**\n",
    "\n",
    "1. **What is the probability that the first 5 fruits are all apples and the next 15 fruits are all oranges?**\n",
    "\n",
    "You can include the `p` and `q` probabilities you previous calculated in your solution."
   ]
  },
  {
   "cell_type": "code",
   "execution_count": 8,
   "metadata": {},
   "outputs": [
    {
     "name": "stdout",
     "output_type": "stream",
     "text": [
      "P(apple5)= 0.07775999999999998\n",
      "P(apple5 and orange15)= 8.349416423424006e-08\n"
     ]
    }
   ],
   "source": [
    "# your code here\n",
    "apples_5 = p**5\n",
    "apples_5_oranges_15 = apples_5 * (q**15)\n",
    "\n",
    "print('P(apple5)=', apples_5)\n",
    "print('P(apple5 and orange15)=', apples_5_oranges_15)\n"
   ]
  },
  {
   "cell_type": "markdown",
   "metadata": {},
   "source": [
    "## Binomial Distribution\n",
    "\n",
    "Similar to the above problem, this time again we randomly sample 20 fruits.\n",
    "\n",
    "**What is the probability that this time the sample contains 5 apples and 15 oranges?**\n",
    "\n",
    "Please note that this time the order of the fruits being picked does not matter."
   ]
  },
  {
   "cell_type": "code",
   "execution_count": 9,
   "metadata": {},
   "outputs": [
    {
     "name": "stdout",
     "output_type": "stream",
     "text": [
      "0.0012944935222876579\n",
      "manzanas: 0.0012944935222876587\n",
      "naranjas: 0.0012944935222876592\n"
     ]
    }
   ],
   "source": [
    "# your code here\n",
    "\n",
    "# opc 1\n",
    "# binom.pmf(k) = choose(n, k) * p**k * (1-p)**(n-k)\n",
    "# k = 5 n = 20 p = 0.6\n",
    "prob_1 = comb(20, 5) * (p**5) * (1-p)**(20-5)\n",
    "print(prob_1)\n",
    "\n",
    "# opc 2\n",
    "# binom.pmf(k) = binom.pmf(k, n, p)\n",
    "prob_2 = binom.pmf(5, 20, 0.60)\n",
    "print(\"manzanas:\", prob_2)\n",
    "\n",
    "prob_3 = binom.pmf(15, 20, 0.40)\n",
    "print(\"naranjas:\", prob_3)\n"
   ]
  },
  {
   "cell_type": "markdown",
   "metadata": {},
   "source": [
    "In the lesson we also discussed CDF (cumulative distribution function). In the context of the above problem, **what is the probability that less than 5 fruits picked are apples?**\n",
    "\n",
    "Write the formula and calculate the probability below."
   ]
  },
  {
   "cell_type": "code",
   "execution_count": 10,
   "metadata": {},
   "outputs": [
    {
     "name": "stdout",
     "output_type": "stream",
     "text": [
      "P(less than 5)= 0.00031703112116863004\n"
     ]
    }
   ],
   "source": [
    "# your code here\n",
    "\n",
    "# opc 1\n",
    "# prob = binom.cdf(x, n, p)\n",
    "prob_3 = binom.cdf(4, 20, 0.6)\n",
    "print('P(less than 5)=', prob_3)\n",
    "\n",
    "# opc 2\n",
    "# binom.pmf(k) = choose(n, k) * p**k * (1-p)**(n-k)\n",
    "n = 20\n",
    "k = 5\n",
    "p = 0.6\n",
    "p_1 = comb(n, 1) * (p**1) * ((1-p)**(n-1))\n",
    "p_2 = comb(n, 2) * (p**2) * ((1-p)**(n-2))\n",
    "p_3 = comb(n, 3) * (p**3) * ((1-p)**(n-3))\n",
    "p_4 = comb(n, 4) * (p**4) * ((1-p)**(n-4))\n",
    "p_total = p_1 + p_2 + p_3 + p_4\n",
    "#print('P(less than 5)=', p_total)"
   ]
  },
  {
   "cell_type": "markdown",
   "metadata": {},
   "source": [
    "**Plot the PDF (probability distributiom function) for the above binomial distribution.**\n",
    "\n",
    "*Hint: The range of x in a binomial distribution is from `0` to `n`.*"
   ]
  },
  {
   "cell_type": "code",
   "execution_count": 13,
   "metadata": {},
   "outputs": [],
   "source": [
    "import matplotlib.pyplot as plt  \n",
    "import numpy as np  "
   ]
  },
  {
   "cell_type": "code",
   "execution_count": 23,
   "metadata": {},
   "outputs": [
    {
     "data": {
      "image/png": "[encoded data removed]",
      "text/plain": [
       "<Figure size 432x288 with 1 Axes>"
      ]
     },
     "metadata": {
      "needs_background": "light"
     },
     "output_type": "display_data"
    }
   ],
   "source": [
    "# your code here\n",
    "# Please label the axes and give a title to the plot \n",
    "\n",
    "# setting the values \n",
    "n = 20\n",
    "p = 0.6\n",
    "\n",
    "# defining list of x values (range)\n",
    "x_values = list(range(n + 1))\n",
    "\n",
    "# list of pmf values\n",
    "dist = [binom.pmf(x, n, p) for x in x_values ]\n",
    "\n",
    "# plotting the graph\n",
    "plt.bar(x_values, dist)\n",
    "plt.title('Probability of selection x apples')\n",
    "plt.xlabel('Number of apples')\n",
    "plt.ylabel('Probability')\n",
    "plt.show();"
   ]
  },
  {
   "cell_type": "markdown",
   "metadata": {},
   "source": [
    "## Poisson Distribution\n",
    "\n",
    "In this challenge you are required to use the Math library in python to solve the problems.\n",
    "\n",
    "In the UEFA champions league tournament, the average number of goals scored in a match is 2.3. \n",
    "\n",
    "**What is the probability that the number of goals scored in a match is 5?**\n",
    "\n",
    "*Hint: Use the exp() in the math library*\n",
    "\n",
    "And to calculate the factorial, you can use the following code:\n",
    "\n",
    "```python\n",
    "import math\n",
    "math.factorial(n) # n is the number you want to find the factorial of\n",
    "```"
   ]
  },
  {
   "cell_type": "code",
   "execution_count": 22,
   "metadata": {},
   "outputs": [
    {
     "data": {
      "text/plain": [
       "0.053775025581946814"
      ]
     },
     "execution_count": 22,
     "metadata": {},
     "output_type": "execute_result"
    }
   ],
   "source": [
    "# your code here \n",
    "from scipy.stats import poisson\n",
    "# poisson.pmf(k, mu, loc) // To shift distribution use the loc parameter.\n",
    "\n",
    "math.factorial(5)\n",
    "\n",
    "prob = poisson.pmf(5, 2.3)\n",
    "prob"
   ]
  },
  {
   "cell_type": "markdown",
   "metadata": {},
   "source": [
    "**Draw a poisson probability distribution plot for the number of goals to be between 0 to 10.**"
   ]
  },
  {
   "cell_type": "code",
   "execution_count": 29,
   "metadata": {},
   "outputs": [
    {
     "data": {
      "image/png": "[encoded data removed]",
      "text/plain": [
       "<Figure size 432x288 with 1 Axes>"
      ]
     },
     "metadata": {
      "needs_background": "light"
     },
     "output_type": "display_data"
    }
   ],
   "source": [
    "# your code here\n",
    "# Please label the axes and give a title to the plot \n",
    "\n",
    "prob_2 = []\n",
    "for i in range (0, 11):\n",
    "    prob = poisson.pmf(i, 2.3)\n",
    "    prob_2.append(prob)\n",
    "    \n",
    "      \n",
    "# defining list of x values (range)\n",
    "x_values = list(range(0,11))\n",
    "\n",
    "plt.bar(x_values, prob_2)\n",
    "plt.title('Probability of x goals')\n",
    "plt.xlabel('Number of goals')\n",
    "plt.ylabel('Probability');"
   ]
  },
  {
   "cell_type": "code",
   "execution_count": null,
   "metadata": {},
   "outputs": [],
   "source": []
  }
 ],
 "metadata": {
  "kernelspec": {
   "display_name": "Python 3 (ipykernel)",
   "language": "python",
   "name": "python3"
  },
  "language_info": {
   "codemirror_mode": {
    "name": "ipython",
    "version": 3
   },
   "file_extension": ".py",
   "mimetype": "text/x-python",
   "name": "python",
   "nbconvert_exporter": "python",
   "pygments_lexer": "ipython3",
   "version": "3.9.9"
  }
 },
 "nbformat": 4,
 "nbformat_minor": 2
}
